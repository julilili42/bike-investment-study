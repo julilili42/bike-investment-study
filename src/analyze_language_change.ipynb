{
 "cells": [
  {
   "cell_type": "code",
   "execution_count": null,
   "id": "0054cbe4",
   "metadata": {},
   "outputs": [],
   "source": [
    "from analyze_language_change import Mail, import_corpus, linear_prediction, occurrence_freq_by_year\n",
    "from pydantic import TypeAdapter\n",
    "import pandas as pd\n",
    "from sklearn.feature_extraction.text import CountVectorizer\n",
    "import numpy as np "
   ]
  },
  {
   "cell_type": "markdown",
   "id": "727fe664",
   "metadata": {},
   "source": [
    "Tagesschau and uni circular mail corpus.\n",
    "\n",
    "To use bjoernp corpera:\n",
    "```\n",
    "from itertools import chain\n",
    "\n",
    "corpus_18_23 = import_corpus(batch_size=100, streaming=False, url=\"bjoernp/tagesschau-2018-2023\")\n",
    "corpus_24 = import_corpus(batch_size=100, streaming=False, url=\"bjoernp/tagesschau-010124-020524\")\n",
    "corpus = chain(corpus_17, corpus_18_23, corpus_24)\n",
    "```\n"
   ]
  },
  {
   "cell_type": "code",
   "execution_count": 12,
   "id": "6d6d30f6",
   "metadata": {},
   "outputs": [],
   "source": [
    "corpus_12_25 = import_corpus(batch_size=100, streaming=False, url=\"julilili42/tagesschau\")\n",
    "uni_mails = import_corpus(batch_size=100, streaming=False, url=\"DerSandmannHD/Uni-Mail\", adapter = TypeAdapter(list[Mail]))"
   ]
  },
  {
   "cell_type": "code",
   "execution_count": 14,
   "id": "acc90d7d",
   "metadata": {},
   "outputs": [
    {
     "name": "stdout",
     "output_type": "stream",
     "text": [
      "3096 articles to be loaded for dataset uni-mail\n"
     ]
    }
   ],
   "source": [
    "rows = [(a.date.year, a.article) for a in uni_mails]\n",
    "year, articles = zip(*rows)"
   ]
  },
  {
   "cell_type": "code",
   "execution_count": 15,
   "id": "a9e93242",
   "metadata": {},
   "outputs": [],
   "source": [
    "# distribution of articles for years\n",
    "year_distribution = pd.Series(year).value_counts().sort_index()\n",
    "# generate word matrix \n",
    "vec = CountVectorizer(max_features=100000, binary=True)\n",
    "word_matrix_bin = vec.fit_transform(articles)\n",
    "vocab = vec.get_feature_names_out()"
   ]
  },
  {
   "cell_type": "code",
   "execution_count": 16,
   "id": "2d9084db",
   "metadata": {},
   "outputs": [
    {
     "data": {
      "text/plain": [
       "Text(0, 0.5, 'Number of articles')"
      ]
     },
     "execution_count": 16,
     "metadata": {},
     "output_type": "execute_result"
    },
    {
     "data": {
      "image/png": "[encoded data removed]",
      "text/plain": [
       "<Figure size 640x480 with 1 Axes>"
      ]
     },
     "metadata": {},
     "output_type": "display_data"
    }
   ],
   "source": [
    "ax = year_distribution.plot(kind=\"bar\")\n",
    "ax.set_xlabel(\"Year\")\n",
    "ax.set_ylabel(\"Number of articles\")"
   ]
  },
  {
   "cell_type": "code",
   "execution_count": 17,
   "id": "5485a8bd",
   "metadata": {},
   "outputs": [],
   "source": [
    "occurence_freq = occurrence_freq_by_year(year=year, word_matrix_bin=word_matrix_bin, vocab=vocab)"
   ]
  },
  {
   "cell_type": "markdown",
   "id": "74c191fd",
   "metadata": {},
   "source": [
    "Goal: try to find words which disproportionaly increased in use, by interpolating use in year 2024 \n",
    "\n",
    "- frequency gap $\\delta = p - q$ $\\implies$ highlights excess usage of frequent words\n",
    "- frequency ratio $r = \\frac{p}{q}$ $\\implies$ highlights excess usage of infrequent words."
   ]
  },
  {
   "cell_type": "code",
   "execution_count": 18,
   "id": "b5569dab",
   "metadata": {},
   "outputs": [],
   "source": [
    "# dataframe containing frequencies before introduction of llm's\n",
    "train = occurence_freq.loc[2012:2022]\n",
    "\n",
    "# linear interpolation, frequency value of 2024\n",
    "q = train.apply(linear_prediction, axis=0)\n",
    "\n",
    "# empirical frequency\n",
    "p = occurence_freq.loc[2024]\n",
    "\n",
    "# only keep words with p>1e-4 in 2023 and 2024\n",
    "mask_freq = (occurence_freq.loc[2023] > 1e-4) & (occurence_freq.loc[2024] > 1e-4)\n",
    "p = p[mask_freq]\n",
    "q = q[mask_freq]\n",
    "\n",
    "# Metric 1: frequency gap delta = p - q\n",
    "delta = p - q\n",
    "\n",
    "# Metric 2: frequency ratio r = p/q\n",
    "eps = 1e-8\n",
    "r = p / np.maximum(q, eps)\n",
    "\n",
    "sorted_freq_gap = delta.sort_values(ascending=False).head(20)\n",
    "sorted_freq_ratio = r.sort_values(ascending=False).head(20)"
   ]
  },
  {
   "cell_type": "markdown",
   "id": "decf2f18",
   "metadata": {},
   "source": [
    "Definition Excess Words: \n",
    "- $\\delta > 0.01$ and \n",
    "- $\\log_{10}\\;r > \\frac{log_{10}\\;2}{4} \\cdot log_{10}\\;p$"
   ]
  },
  {
   "cell_type": "code",
   "execution_count": 19,
   "id": "fdceeb81",
   "metadata": {},
   "outputs": [
    {
     "name": "stdout",
     "output_type": "stream",
     "text": [
      "number of excess words: 6792\n",
      "                        p         q     delta             r\n",
      "ist              0.629879  0.260468  0.369411  2.418258e+00\n",
      "2024             0.371467  0.003446  0.368021  1.077930e+02\n",
      "eine             0.611036  0.303987  0.307049  2.010072e+00\n",
      "von              0.706595  0.502290  0.204305  1.406746e+00\n",
      "dass             0.188425  0.011309  0.177116  1.666162e+01\n",
      "sehr             0.246299  0.080414  0.165885  3.062898e+00\n",
      "vor              0.199192  0.055485  0.143707  3.590011e+00\n",
      "12               0.211306  0.072358  0.138947  2.920260e+00\n",
      "bzw              0.293405  0.157857  0.135548  1.858677e+00\n",
      "tel              0.323015  0.194008  0.129007  1.664957e+00\n",
      "unsere           0.181696  0.054427  0.127269  3.338370e+00\n",
      "unserer          0.266487  0.142057  0.124430  1.875913e+00\n",
      "forschung        0.164199  0.040105  0.124094  4.094251e+00\n",
      "minuten          0.274563  0.150666  0.123897  1.822332e+00\n",
      "med              0.135935  0.014283  0.121653  9.517526e+00\n",
      "keine            0.274563  0.161227  0.113336  1.702961e+00\n",
      "nicht            0.566622  0.455719  0.110903  1.243359e+00\n",
      "link             0.360700  0.252502  0.108198  1.428505e+00\n",
      "diesen           0.106326  0.000000  0.106326  1.063257e+07\n",
      "weitergegeben    0.384926  0.279837  0.105089  1.375536e+00\n",
      "20               0.236878  0.132109  0.104768  1.793044e+00\n",
      "ihnen            0.267833  0.163376  0.104458  1.639371e+00\n",
      "dritte           0.402423  0.301215  0.101207  1.335997e+00\n",
      "psychotherapie   0.099596  0.000000  0.099596  9.959623e+06\n",
      "grüße            0.293405  0.193812  0.099593  1.513863e+00\n",
      "durch            0.218035  0.120108  0.097927  1.815325e+00\n",
      "alt              0.150740  0.053211  0.097529  2.832889e+00\n",
      "fragebögen       0.104980  0.008943  0.096037  1.173917e+01\n",
      "mail             0.475101  0.380603  0.094498  1.248284e+00\n",
      "pseudonymisiert  0.320323  0.226370  0.093953  1.415045e+00\n"
     ]
    }
   ],
   "source": [
    "threshold = (np.log10(2) / 4) * np.log10(p)\n",
    "mask_excess = (delta > 0.01) | (np.log10(r) > threshold)\n",
    "\n",
    "excess_words = pd.DataFrame({\n",
    "    \"p\": p,\n",
    "    \"q\": q,\n",
    "    \"delta\": delta,\n",
    "    \"r\": r\n",
    "}).loc[mask_excess].sort_values(\"delta\", ascending=False)\n",
    "\n",
    "print(\"number of excess words:\", len(excess_words))\n",
    "print(excess_words.head(30))"
   ]
  },
  {
   "cell_type": "code",
   "execution_count": 26,
   "id": "f4ecdbd7",
   "metadata": {},
   "outputs": [
    {
     "name": "stdout",
     "output_type": "stream",
     "text": [
      "number of excess style words 1635\n",
      "                                p    q     delta             r\n",
      "geehrte                  0.092867  0.0  0.092867  9.286676e+06\n",
      "aktuellen                0.068641  0.0  0.068641  6.864065e+06\n",
      "neurologischen           0.064603  0.0  0.064603  6.460296e+06\n",
      "helfen                   0.060565  0.0  0.060565  6.056528e+06\n",
      "stattfinden              0.056528  0.0  0.056528  5.652759e+06\n",
      "persönlichen             0.053836  0.0  0.053836  5.383580e+06\n",
      "bitten                   0.053836  0.0  0.053836  5.383580e+06\n",
      "herzlichen               0.051144  0.0  0.051144  5.114401e+06\n",
      "sprechen                 0.047106  0.0  0.047106  4.710633e+06\n",
      "leisten                  0.041723  0.0  0.041723  4.172275e+06\n",
      "gegeben                  0.039031  0.0  0.039031  3.903096e+06\n",
      "verbessern               0.036339  0.0  0.036339  3.633917e+06\n",
      "nächsten                 0.032301  0.0  0.032301  3.230148e+06\n",
      "eigene                   0.032301  0.0  0.032301  3.230148e+06\n",
      "gesamten                 0.030956  0.0  0.030956  3.095559e+06\n",
      "alte                     0.030956  0.0  0.030956  3.095559e+06\n",
      "unterschiedlichen        0.029610  0.0  0.029610  2.960969e+06\n",
      "verlosen                 0.029610  0.0  0.029610  2.960969e+06\n",
      "testen                   0.028264  0.0  0.028264  2.826380e+06\n",
      "forschungsinteressierte  0.028264  0.0  0.028264  2.826380e+06\n",
      "auszufüllen              0.028264  0.0  0.028264  2.826380e+06\n",
      "hilft                    0.026918  0.0  0.026918  2.691790e+06\n",
      "durchführen              0.026918  0.0  0.026918  2.691790e+06\n",
      "amtlichen                0.025572  0.0  0.025572  2.557201e+06\n",
      "befinden                 0.025572  0.0  0.025572  2.557201e+06\n",
      "translationale           0.025572  0.0  0.025572  2.557201e+06\n",
      "behavioral               0.025572  0.0  0.025572  2.557201e+06\n",
      "ausfüllen                0.024226  0.0  0.024226  2.422611e+06\n",
      "amtliche                 0.024226  0.0  0.024226  2.422611e+06\n",
      "minütige                 0.024226  0.0  0.024226  2.422611e+06\n",
      "weisen                   0.024226  0.0  0.024226  2.422611e+06\n",
      "erfolgen                 0.024226  0.0  0.024226  2.422611e+06\n",
      "studiengänge             0.024226  0.0  0.024226  2.422611e+06\n",
      "beitragen                0.024226  0.0  0.024226  2.422611e+06\n",
      "soziale                  0.024226  0.0  0.024226  2.422611e+06\n",
      "entsprechende            0.022880  0.0  0.022880  2.288022e+06\n",
      "dauern                   0.021534  0.0  0.021534  2.153432e+06\n",
      "erwarten                 0.021534  0.0  0.021534  2.153432e+06\n",
      "angeben                  0.021534  0.0  0.021534  2.153432e+06\n",
      "ausführliche             0.021534  0.0  0.021534  2.153432e+06\n",
      "gehalten                 0.021534  0.0  0.021534  2.153432e+06\n",
      "folgt                    0.021534  0.0  0.021534  2.153432e+06\n",
      "bleiben                  0.021534  0.0  0.021534  2.153432e+06\n",
      "auftreten                0.021534  0.0  0.021534  2.153432e+06\n",
      "zugeordnet               0.020188  0.0  0.020188  2.018843e+06\n",
      "innovative               0.020188  0.0  0.020188  2.018843e+06\n",
      "psychiatrische           0.020188  0.0  0.020188  2.018843e+06\n",
      "genannten                0.020188  0.0  0.020188  2.018843e+06\n",
      "zweite                   0.020188  0.0  0.020188  2.018843e+06\n",
      "umgehen                  0.018843  0.0  0.018843  1.884253e+06\n"
     ]
    }
   ],
   "source": [
    "# only look at adjectives and verbes\n",
    "import spacy\n",
    "nlp = spacy.load(\"de_core_news_lg\")\n",
    "\n",
    "words = list(excess_words.index)\n",
    "pos_tags = {}\n",
    "for doc in nlp.pipe(words, batch_size=500):\n",
    "    token = doc[0]\n",
    "    pos_tags[token.text] = token.pos_\n",
    "\n",
    "allowed_pos = {\"ADJ\", \"VERB\"}\n",
    "style_words = [w for w, pos in pos_tags.items() if pos in allowed_pos]\n",
    "\n",
    "excess_style_words = excess_words.loc[excess_words.index.isin(style_words)].sort_values(\"r\", ascending=False)\n",
    "\n",
    "print(f\"number of excess style words {len(excess_style_words)}\")\n",
    "print(excess_style_words.head(50))"
   ]
  },
  {
   "cell_type": "code",
   "execution_count": null,
   "id": "1473aa55",
   "metadata": {},
   "outputs": [
    {
     "name": "stdout",
     "output_type": "stream",
     "text": [
      "Empty DataFrame\n",
      "Columns: [p, q, delta, r]\n",
      "Index: []\n"
     ]
    }
   ],
   "source": [
    "# shaise\n",
    "llm_markers = [\n",
    "    \"relevant\", \"vielversprechend\", \"entscheidend\", \"bedeutend\",\n",
    "    \"herausragend\", \"umfassend\", \"wesentlich\", \"innovativ\",\n",
    "    \"erheblich\", \"nahtlos\", \"effizient\", \"zentral\", \"kritisch\",\n",
    "    \"vielseitig\", \"insbesondere\", \"zugleich\", \"zunehmend\",\n",
    "    \"insbesondere\", \"zugleich\", \"daher\", \"folglich\"\n",
    "]\n",
    "\n",
    "excess_llm_like = excess_style_words[\n",
    "    excess_style_words.index.isin(llm_markers)\n",
    "]\n",
    "print(excess_llm_like)"
   ]
  }
 ],
 "metadata": {
  "kernelspec": {
   "display_name": "venv (3.10.14)",
   "language": "python",
   "name": "python3"
  },
  "language_info": {
   "codemirror_mode": {
    "name": "ipython",
    "version": 3
   },
   "file_extension": ".py",
   "mimetype": "text/x-python",
   "name": "python",
   "nbconvert_exporter": "python",
   "pygments_lexer": "ipython3",
   "version": "3.10.14"
  }
 },
 "nbformat": 4,
 "nbformat_minor": 5
}
