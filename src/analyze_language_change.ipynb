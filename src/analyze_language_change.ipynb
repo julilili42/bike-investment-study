{
 "cells": [
  {
   "cell_type": "code",
   "execution_count": 60,
   "id": "0054cbe4",
   "metadata": {},
   "outputs": [],
   "source": [
    "from analyze_language_change import import_corpus, linear_prediction\n",
    "\n",
    "import pandas as pd\n",
    "from itertools import chain\n",
    "from sklearn.feature_extraction.text import CountVectorizer\n",
    "import numpy as np \n",
    "from collections import defaultdict\n",
    "import seaborn as sns\n",
    "import matplotlib.pyplot as plt"
   ]
  },
  {
   "cell_type": "code",
   "execution_count": 61,
   "id": "6d6d30f6",
   "metadata": {},
   "outputs": [],
   "source": [
    "corpus_12_25 = import_corpus(batch_size=100, streaming=False, url=\"julilili42/tagesschau\")"
   ]
  },
  {
   "cell_type": "code",
   "execution_count": 54,
   "id": "611e49f3",
   "metadata": {},
   "outputs": [],
   "source": [
    "corpus_18_23 = import_corpus(batch_size=100, streaming=False, url=\"bjoernp/tagesschau-2018-2023\")\n",
    "corpus_24 = import_corpus(batch_size=100, streaming=False, url=\"bjoernp/tagesschau-010124-020524\")\n",
    "corpus_17 = import_corpus(batch_size=100, streaming=False, url=\"julilili42/tagesschau-2017\")\n",
    "\n",
    "corpus = chain(corpus_17, corpus_18_23, corpus_24)"
   ]
  },
  {
   "cell_type": "code",
   "execution_count": 62,
   "id": "acc90d7d",
   "metadata": {},
   "outputs": [
    {
     "name": "stderr",
     "output_type": "stream",
     "text": [
      "Generating train split: 100%|██████████| 404406/404406 [00:02<00:00, 141270.15 examples/s]\n"
     ]
    },
    {
     "name": "stdout",
     "output_type": "stream",
     "text": [
      "404406 articles to be loaded for dataset tagesschau\n"
     ]
    }
   ],
   "source": [
    "rows = [(a.date.year, a.article) for a in corpus_12_25]\n",
    "year, articles = zip(*rows)"
   ]
  },
  {
   "cell_type": "code",
   "execution_count": 63,
   "id": "a9e93242",
   "metadata": {},
   "outputs": [],
   "source": [
    "# generate word matrix \n",
    "vec = CountVectorizer(max_features=100000, binary=True)\n",
    "word_matrix_bin = vec.fit_transform(articles)\n",
    "vocab = vec.get_feature_names_out()\n",
    "\n",
    "unique_years = np.unique(year)\n",
    "# distribution of articles in unique years\n",
    "year_distribution = defaultdict(int)"
   ]
  },
  {
   "cell_type": "code",
   "execution_count": 64,
   "id": "b5569dab",
   "metadata": {},
   "outputs": [
    {
     "name": "stdout",
     "output_type": "stream",
     "text": [
      "eu               0.154456\n",
      "2023             0.138989\n",
      "us               0.121315\n",
      "usa              0.116889\n",
      "hatte            0.109327\n",
      "2024             0.108020\n",
      "raketen          0.107858\n",
      "wahl             0.107556\n",
      "europäischen     0.106995\n",
      "israel           0.104800\n",
      "hieß             0.104571\n",
      "donald           0.102525\n",
      "trump            0.096478\n",
      "angriffe         0.094670\n",
      "seine            0.094144\n",
      "armee            0.092612\n",
      "verhandlungen    0.092395\n",
      "israelischen     0.091711\n",
      "wahlkampf        0.090770\n",
      "social           0.089919\n",
      "dtype: float64\n"
     ]
    }
   ],
   "source": [
    "# dimension unique_years x vocab\n",
    "rows = []\n",
    "\n",
    "for y in unique_years:\n",
    "    sel = (year == y)\n",
    "    # number of articles in year y\n",
    "    n = int(sel.sum())\n",
    "    year_distribution[int(y)] = n\n",
    "    \n",
    "    # count how many articles (of this year) contain each word at least once -> dimension 1 x n \n",
    "    present_counts = np.asarray(word_matrix_bin[sel].sum(axis=0)).ravel()\n",
    "    rows.append(present_counts / max(n, 1))\n",
    "\n",
    "# occurence_freq per year\n",
    "occurence_freq = pd.DataFrame(rows, index=unique_years, columns=vocab)\n",
    "\n",
    "# goal: try to find words which disproportionaly increased in use \n",
    "# dataframe containing frequencies before introduction of llm's\n",
    "train = occurence_freq.loc[2017:2022]\n",
    "\n",
    "# linear interpolation, frequency value of 2024\n",
    "q = train.apply(linear_prediction, axis=0)\n",
    "\n",
    "# empirical frequency\n",
    "p = occurence_freq.loc[2024]\n",
    "\n",
    "# Metric 1: frequency gap delta = p - q\n",
    "delta = p - q\n",
    "\n",
    "# Metric 2: frequency ratio r = p/q\n",
    "r = p / q.replace(0, 1e-8)\n",
    "sorted_freq_gap = delta.sort_values(ascending=False).head(20)\n",
    "sorted_freq_ratio = r.sort_values(ascending=False).head(20)\n",
    "\n",
    "print(sorted_freq_gap)"
   ]
  },
  {
   "cell_type": "code",
   "execution_count": 65,
   "id": "16ff701d",
   "metadata": {},
   "outputs": [
    {
     "data": {
      "image/png": "[encoded data removed]",
      "text/plain": [
       "<Figure size 640x480 with 1 Axes>"
      ]
     },
     "metadata": {},
     "output_type": "display_data"
    }
   ],
   "source": [
    "df_year = pd.DataFrame(\n",
    "    list(year_distribution.items()), columns=[\"year\", \"count\"]\n",
    "  ).sort_values(\"year\")\n",
    "\n",
    "sns.barplot(data=df_year, x=\"year\", y=\"count\")\n",
    "plt.xticks(rotation=45, ha=\"right\")\n",
    "plt.title(\"Artikel pro Jahr\")\n",
    "plt.tight_layout()\n",
    "plt.show()"
   ]
  },
  {
   "cell_type": "code",
   "execution_count": null,
   "id": "f4ecdbd7",
   "metadata": {},
   "outputs": [],
   "source": []
  }
 ],
 "metadata": {
  "kernelspec": {
   "display_name": "venv (3.10.14)",
   "language": "python",
   "name": "python3"
  },
  "language_info": {
   "codemirror_mode": {
    "name": "ipython",
    "version": 3
   },
   "file_extension": ".py",
   "mimetype": "text/x-python",
   "name": "python",
   "nbconvert_exporter": "python",
   "pygments_lexer": "ipython3",
   "version": "3.10.14"
  }
 },
 "nbformat": 4,
 "nbformat_minor": 5
}
