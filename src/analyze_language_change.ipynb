{
 "cells": [
  {
   "cell_type": "code",
   "execution_count": 21,
   "id": "0054cbe4",
   "metadata": {},
   "outputs": [],
   "source": [
    "from analyze_language_change import import_corpus, linear_prediction, occurrence_freq_by_year\n",
    "\n",
    "import pandas as pd\n",
    "from itertools import chain\n",
    "from sklearn.feature_extraction.text import CountVectorizer\n",
    "import numpy as np "
   ]
  },
  {
   "cell_type": "code",
   "execution_count": 22,
   "id": "6d6d30f6",
   "metadata": {},
   "outputs": [],
   "source": [
    "corpus_12_25 = import_corpus(batch_size=100, streaming=False, url=\"julilili42/tagesschau\")"
   ]
  },
  {
   "cell_type": "code",
   "execution_count": 23,
   "id": "611e49f3",
   "metadata": {},
   "outputs": [
    {
     "data": {
      "text/plain": [
       "'\\ncorpus_18_23 = import_corpus(batch_size=100, streaming=False, url=\"bjoernp/tagesschau-2018-2023\")\\ncorpus_24 = import_corpus(batch_size=100, streaming=False, url=\"bjoernp/tagesschau-010124-020524\")\\ncorpus_17 = import_corpus(batch_size=100, streaming=False, url=\"julilili42/tagesschau-2017\")\\n\\ncorpus = chain(corpus_17, corpus_18_23, corpus_24)\\n'"
      ]
     },
     "execution_count": 23,
     "metadata": {},
     "output_type": "execute_result"
    }
   ],
   "source": [
    "\"\"\"\n",
    "corpus_18_23 = import_corpus(batch_size=100, streaming=False, url=\"bjoernp/tagesschau-2018-2023\")\n",
    "corpus_24 = import_corpus(batch_size=100, streaming=False, url=\"bjoernp/tagesschau-010124-020524\")\n",
    "corpus_17 = import_corpus(batch_size=100, streaming=False, url=\"julilili42/tagesschau-2017\")\n",
    "\n",
    "corpus = chain(corpus_17, corpus_18_23, corpus_24)\n",
    "\"\"\""
   ]
  },
  {
   "cell_type": "code",
   "execution_count": 24,
   "id": "acc90d7d",
   "metadata": {},
   "outputs": [
    {
     "name": "stdout",
     "output_type": "stream",
     "text": [
      "31972 articles to be loaded for dataset tagesschau\n"
     ]
    }
   ],
   "source": [
    "rows = [(a.date.year, a.article) for a in corpus_12_25]\n",
    "year, articles = zip(*rows)"
   ]
  },
  {
   "cell_type": "code",
   "execution_count": 25,
   "id": "a9e93242",
   "metadata": {},
   "outputs": [],
   "source": [
    "# distribution of articles for years\n",
    "year_distribution = pd.Series(year).value_counts().sort_index()\n",
    "# generate word matrix \n",
    "vec = CountVectorizer(max_features=100000, binary=True)\n",
    "word_matrix_bin = vec.fit_transform(articles)\n",
    "vocab = vec.get_feature_names_out()"
   ]
  },
  {
   "cell_type": "code",
   "execution_count": 26,
   "id": "2d9084db",
   "metadata": {},
   "outputs": [
    {
     "data": {
      "text/plain": [
       "Text(0, 0.5, 'Number of articles')"
      ]
     },
     "execution_count": 26,
     "metadata": {},
     "output_type": "execute_result"
    },
    {
     "data": {
      "image/png": "[encoded data removed]",
      "text/plain": [
       "<Figure size 640x480 with 1 Axes>"
      ]
     },
     "metadata": {},
     "output_type": "display_data"
    }
   ],
   "source": [
    "ax = year_distribution.plot(kind=\"bar\")\n",
    "ax.set_xlabel(\"Year\")\n",
    "ax.set_ylabel(\"Number of articles\")"
   ]
  },
  {
   "cell_type": "code",
   "execution_count": 27,
   "id": "5485a8bd",
   "metadata": {},
   "outputs": [],
   "source": [
    "occurence_freq = occurrence_freq_by_year(year=year, word_matrix_bin=word_matrix_bin, vocab=vocab)"
   ]
  },
  {
   "cell_type": "markdown",
   "id": "74c191fd",
   "metadata": {},
   "source": [
    "Goal: try to find words which disproportionaly increased in use, by interpolating use in year 2024 \n",
    "\n",
    "- frequency gap $\\delta = p - q$ $\\implies$ highlights excess usage of frequent words\n",
    "- frequency ratio $r = \\frac{p}{q}$ $\\implies$ highlights excess usage of infrequent words."
   ]
  },
  {
   "cell_type": "code",
   "execution_count": 28,
   "id": "b5569dab",
   "metadata": {},
   "outputs": [],
   "source": [
    "# dataframe containing frequencies before introduction of llm's\n",
    "train = occurence_freq.loc[2012:2022]\n",
    "\n",
    "# linear interpolation, frequency value of 2024\n",
    "q = train.apply(linear_prediction, axis=0)\n",
    "\n",
    "# empirical frequency\n",
    "p = occurence_freq.loc[2024]\n",
    "\n",
    "# only keep words with p>1e-4 in 2023 and 2024\n",
    "mask_freq = (occurence_freq.loc[2023] > 1e-4) & (occurence_freq.loc[2024] > 1e-4)\n",
    "p = p[mask_freq]\n",
    "q = q[mask_freq]\n",
    "\n",
    "# Metric 1: frequency gap delta = p - q\n",
    "delta = p - q\n",
    "\n",
    "# Metric 2: frequency ratio r = p/q\n",
    "eps = 1e-8\n",
    "r = p / np.maximum(q, eps)\n",
    "\n",
    "sorted_freq_gap = delta.sort_values(ascending=False).head(20)\n",
    "sorted_freq_ratio = r.sort_values(ascending=False).head(20)"
   ]
  },
  {
   "cell_type": "markdown",
   "id": "decf2f18",
   "metadata": {},
   "source": [
    "Definition Excess Words: \n",
    "- $\\delta > 0.01$ and \n",
    "- $\\log_{10}\\;r > \\frac{log_{10}\\;2}{4} \\cdot log_{10}\\;p$"
   ]
  },
  {
   "cell_type": "code",
   "execution_count": 29,
   "id": "fdceeb81",
   "metadata": {},
   "outputs": [
    {
     "name": "stdout",
     "output_type": "stream",
     "text": [
      "number of excess words: 32396\n",
      "                           p         q     delta         r\n",
      "2023                0.203250  0.040160  0.163090  5.061031\n",
      "euro                0.250069  0.101407  0.148662  2.465990\n",
      "2024                0.143487  0.027589  0.115898  5.200925\n",
      "prozent             0.367116  0.265972  0.101144  1.380280\n",
      "milliarden          0.157257  0.056422  0.100835  2.787152\n",
      "teilte              0.215643  0.119954  0.095689  1.797710\n",
      "sagte               0.523823  0.429402  0.094421  1.219889\n",
      "nachrichtenagentur  0.180942  0.086882  0.094060  2.082608\n",
      "zufolge             0.271551  0.180861  0.090689  1.501431\n",
      "2025                0.117598  0.027160  0.090438  4.329835\n",
      "social              0.110438  0.021731  0.088707  5.082000\n",
      "hieß                0.187276  0.102279  0.084997  1.831026\n",
      "chef                0.199945  0.115694  0.084251  1.728228\n",
      "media               0.107959  0.023997  0.083962  4.498899\n",
      "regierung           0.324704  0.242221  0.082483  1.340526\n",
      "israel              0.106307  0.025347  0.080960  4.194125\n",
      "landes              0.155605  0.076197  0.079407  2.042124\n",
      "erneut              0.167447  0.090731  0.076716  1.845536\n",
      "angriffe            0.110713  0.034995  0.075718  3.163690\n",
      "beitrag             0.110438  0.034828  0.075610  3.170978\n"
     ]
    }
   ],
   "source": [
    "threshold = (np.log10(2) / 4) * np.log10(p)\n",
    "mask_excess = (delta > 0.01) | (np.log10(r) > threshold)\n",
    "\n",
    "excess_words = pd.DataFrame({\n",
    "    \"p\": p,\n",
    "    \"q\": q,\n",
    "    \"delta\": delta,\n",
    "    \"r\": r\n",
    "}).loc[mask_excess].sort_values(\"delta\", ascending=False)\n",
    "\n",
    "print(\"number of excess words:\", len(excess_words))\n",
    "print(excess_words.head(20))"
   ]
  },
  {
   "cell_type": "code",
   "execution_count": 31,
   "id": "f4ecdbd7",
   "metadata": {},
   "outputs": [
    {
     "name": "stdout",
     "output_type": "stream",
     "text": [
      "number of excess style words 12276\n",
      "                          p    q     delta             r\n",
      "gesenkt            0.021757  0.0  0.021757  2.175709e+06\n",
      "schulden           0.019003  0.0  0.019003  1.900303e+06\n",
      "sinkende           0.014597  0.0  0.014597  1.459653e+06\n",
      "spanische          0.013219  0.0  0.013219  1.321950e+06\n",
      "nordkoreanischer   0.012944  0.0  0.012944  1.294409e+06\n",
      "niedrigsten        0.011292  0.0  0.011292  1.129166e+06\n",
      "palästinensischer  0.010741  0.0  0.010741  1.074084e+06\n",
      "angegriffene       0.010190  0.0  0.010190  1.019003e+06\n",
      "dauerhaften        0.009915  0.0  0.009915  9.914624e+05\n",
      "festgehaltenen     0.009639  0.0  0.009639  9.639218e+05\n",
      "gestürzten         0.009639  0.0  0.009639  9.639218e+05\n",
      "konjunkturdaten    0.008813  0.0  0.008813  8.812999e+05\n",
      "ägyptischen        0.008538  0.0  0.008538  8.537593e+05\n",
      "geschrumpft        0.008538  0.0  0.008538  8.537593e+05\n",
      "vereinbarten       0.008262  0.0  0.008262  8.262187e+05\n",
      "einschnitte        0.007987  0.0  0.007987  7.986781e+05\n",
      "proiranische       0.007711  0.0  0.007711  7.711374e+05\n",
      "volkswirte         0.007161  0.0  0.007161  7.160562e+05\n",
      "verschleppten      0.007161  0.0  0.007161  7.160562e+05\n",
      "griechischen       0.007161  0.0  0.007161  7.160562e+05\n",
      "handlungsfähige    0.006885  0.0  0.006885  6.885156e+05\n",
      "angeschlagene      0.006885  0.0  0.006885  6.885156e+05\n",
      "internationalem    0.006885  0.0  0.006885  6.885156e+05\n",
      "exporte            0.006610  0.0  0.006610  6.609749e+05\n",
      "drücken            0.006334  0.0  0.006334  6.334343e+05\n",
      "rutschte           0.006059  0.0  0.006059  6.058937e+05\n",
      "sanken             0.006059  0.0  0.006059  6.058937e+05\n",
      "konjunkturelle     0.006059  0.0  0.006059  6.058937e+05\n",
      "schwächelnden      0.006059  0.0  0.006059  6.058937e+05\n",
      "stabilen           0.005784  0.0  0.005784  5.783531e+05\n"
     ]
    }
   ],
   "source": [
    "# only look at adjectives and verbes\n",
    "import spacy\n",
    "nlp = spacy.load(\"de_core_news_lg\")\n",
    "\n",
    "words = list(excess_words.index)\n",
    "pos_tags = {}\n",
    "for doc in nlp.pipe(words, batch_size=500):\n",
    "    token = doc[0]\n",
    "    pos_tags[token.text] = token.pos_\n",
    "\n",
    "allowed_pos = {\"ADJ\", \"VERB\"}\n",
    "style_words = [w for w, pos in pos_tags.items() if pos in allowed_pos]\n",
    "\n",
    "excess_style_words = excess_words.loc[excess_words.index.isin(style_words)].sort_values(\"r\", ascending=False)\n",
    "\n",
    "print(f\"number of excess style words {len(excess_style_words)}\")\n",
    "print(excess_style_words.head(30))"
   ]
  },
  {
   "cell_type": "code",
   "execution_count": null,
   "id": "fac93501",
   "metadata": {},
   "outputs": [],
   "source": []
  }
 ],
 "metadata": {
  "kernelspec": {
   "display_name": "venv (3.13.9)",
   "language": "python",
   "name": "python3"
  },
  "language_info": {
   "codemirror_mode": {
    "name": "ipython",
    "version": 3
   },
   "file_extension": ".py",
   "mimetype": "text/x-python",
   "name": "python",
   "nbconvert_exporter": "python",
   "pygments_lexer": "ipython3",
   "version": "3.10.14"
  }
 },
 "nbformat": 4,
 "nbformat_minor": 5
}
