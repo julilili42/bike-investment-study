{
 "cells": [
  {
   "cell_type": "code",
   "execution_count": 64,
   "id": "0054cbe4",
   "metadata": {},
   "outputs": [],
   "source": [
    "from analyze_language_change import Mail, import_corpus, linear_prediction, occurrence_freq_by_year, occurrences_by_year, plot_word_timeseries\n",
    "from pydantic import TypeAdapter\n",
    "import pandas as pd\n",
    "from sklearn.feature_extraction.text import CountVectorizer\n",
    "import numpy as np "
   ]
  },
  {
   "cell_type": "code",
   "execution_count": 65,
   "id": "6d6d30f6",
   "metadata": {},
   "outputs": [],
   "source": [
    "corpus_12_25 = import_corpus(batch_size=100, streaming=False, url=\"julilili42/tagesschau\")\n",
    "uni_mails = import_corpus(batch_size=100, streaming=False, url=\"DerSandmannHD/Uni-Mail\", adapter = TypeAdapter(list[Mail]))"
   ]
  },
  {
   "cell_type": "code",
   "execution_count": 66,
   "id": "acc90d7d",
   "metadata": {},
   "outputs": [
    {
     "name": "stdout",
     "output_type": "stream",
     "text": [
      "3096 articles to be loaded for dataset uni-mail\n"
     ]
    }
   ],
   "source": [
    "rows = [(a.date.year, a.article) for a in corpus_12_25]\n",
    "year, articles = zip(*rows)"
   ]
  },
  {
   "cell_type": "code",
   "execution_count": 67,
   "id": "a9e93242",
   "metadata": {},
   "outputs": [],
   "source": [
    "# distribution of articles for years\n",
    "year_distribution = pd.Series(year).value_counts().sort_index()\n",
    "# generate word matrix \n",
    "vec = CountVectorizer(max_features=100000, binary=True)\n",
    "word_matrix_bin = vec.fit_transform(articles)\n",
    "vocab = vec.get_feature_names_out()"
   ]
  },
  {
   "cell_type": "code",
   "execution_count": 68,
   "id": "2d9084db",
   "metadata": {},
   "outputs": [
    {
     "data": {
      "text/plain": [
       "Text(0.5, 0, 'Year')"
      ]
     },
     "execution_count": 68,
     "metadata": {},
     "output_type": "execute_result"
    },
    {
     "data": {
      "text/plain": [
       "Text(0, 0.5, 'Number of articles')"
      ]
     },
     "execution_count": 68,
     "metadata": {},
     "output_type": "execute_result"
    },
    {
     "data": {
      "image/png": "[encoded data removed]",
      "text/plain": [
       "<Figure size 640x480 with 1 Axes>"
      ]
     },
     "metadata": {},
     "output_type": "display_data"
    }
   ],
   "source": [
    "ax = year_distribution.plot(kind=\"bar\")\n",
    "ax.set_xlabel(\"Year\")\n",
    "ax.set_ylabel(\"Number of articles\")"
   ]
  },
  {
   "cell_type": "code",
   "execution_count": 69,
   "id": "5485a8bd",
   "metadata": {},
   "outputs": [],
   "source": [
    "occurence_freq = occurrence_freq_by_year(year=year, word_matrix_bin=word_matrix_bin, vocab=vocab)\n",
    "occurence_counts = occurrences_by_year(year=year, word_matrix=word_matrix_bin, vocab=vocab)"
   ]
  },
  {
   "cell_type": "markdown",
   "id": "74c191fd",
   "metadata": {},
   "source": [
    "Goal: try to find words which disproportionaly increased in use, by interpolating use in year 2024 \n",
    "\n",
    "- frequency gap $\\delta = p - q$ $\\implies$ highlights excess usage of frequent words\n",
    "- frequency ratio $r = \\frac{p}{q}$ $\\implies$ highlights excess usage of infrequent words."
   ]
  },
  {
   "cell_type": "code",
   "execution_count": 70,
   "id": "b5569dab",
   "metadata": {},
   "outputs": [
    {
     "data": {
      "text/plain": [
       "2025                         45760.430686\n",
       "2156                         26917.900404\n",
       "behavioral                   25572.005384\n",
       "ranft                        24226.110363\n",
       "32727                        21534.320323\n",
       "2925                         21534.320323\n",
       "77165                        21534.320323\n",
       "contacts                     20188.425303\n",
       "gesundheitswissenschaften    20188.425303\n",
       "organising                   18842.530283\n",
       "irtg2804                     18842.530283\n",
       "barrierefreiheit             18842.530283\n",
       "workshopformats              17496.635262\n",
       "translational                17496.635262\n",
       "mikrostruktur                16150.740242\n",
       "grit                         16150.740242\n",
       "weishaupt                    16150.740242\n",
       "confirmation                 16150.740242\n",
       "ganzkörper                   16150.740242\n",
       "hib                          16150.740242\n",
       "dtype: float64"
      ]
     },
     "execution_count": 70,
     "metadata": {},
     "output_type": "execute_result"
    }
   ],
   "source": [
    "\n",
    "eps = 1e-6\n",
    "\n",
    "\n",
    "# dataframe containing frequencies before introduction of llm's\n",
    "train = occurence_freq.loc[2020:2022]\n",
    "train_baseline = train.mean()\n",
    "\n",
    "# empirical frequency\n",
    "p = occurence_freq.loc[2024] \n",
    "\n",
    "# absolute growth from baseline in percent\n",
    "growth_abs = (p - train_baseline) / (train_baseline + eps)\n",
    "\n",
    "# linear interpolation, frequency value of 2024\n",
    "q = train.apply(linear_prediction, axis=0)\n",
    "\n",
    "# Metric 1: frequency gap delta = p - q\n",
    "delta = p - q\n",
    "\n",
    "# Metric 2: frequency ratio r = p/q\n",
    "min_q = 5e-4\n",
    "min_p = 5e-3\n",
    "mask = (q > min_q) & (p > min_p)\n",
    "r = p[mask] / q[mask]\n",
    "\n",
    "sorted_freq_gap = delta.sort_values(ascending=False).head(20)\n",
    "sorted_freq_ratio = r.sort_values(ascending=False).head(50)\n",
    "\n",
    "sorted_freq_mean = growth_abs.sort_values(ascending=False).head(20)\n",
    "sorted_freq_mean"
   ]
  },
  {
   "cell_type": "code",
   "execution_count": 71,
   "id": "0048ea0c",
   "metadata": {},
   "outputs": [],
   "source": [
    "metrics = pd.DataFrame({\"p\": p, \"q\": q, \"growth\": growth_abs})\n",
    "\n",
    "metrics[\"delta\"] = metrics[\"p\"] - metrics[\"q\"]\n",
    "metrics[\"r\"] = metrics[\"p\"] / np.maximum(metrics[\"q\"], eps)\n",
    "\n",
    "mask_ratio = (metrics[\"q\"] > min_q) & (metrics[\"p\"] > min_p)\n",
    "excess = metrics.loc[mask_ratio]"
   ]
  },
  {
   "cell_type": "code",
   "execution_count": 72,
   "id": "f4ecdbd7",
   "metadata": {},
   "outputs": [],
   "source": [
    "import spacy\n",
    "nlp = spacy.load(\"de_core_news_lg\")\n",
    "\n",
    "words = list(excess.index)\n",
    "pos_tags = {}\n",
    "for doc in nlp.pipe(words, batch_size=500):\n",
    "    token = doc[0]\n",
    "    pos_tags[token.text] = token.pos_\n",
    "\n",
    "allowed_pos = {\"ADJ\", \"VERB\"}\n",
    "style_words = [w for w, pos in pos_tags.items() if pos in allowed_pos]\n",
    "\n",
    "excess_style_words = excess.loc[excess.index.isin(style_words)].sort_values(\"growth\", ascending=False)"
   ]
  },
  {
   "cell_type": "code",
   "execution_count": 73,
   "id": "f2f7b663",
   "metadata": {},
   "outputs": [
    {
     "data": {
      "text/html": [
       "<div>\n",
       "<style scoped>\n",
       "    .dataframe tbody tr th:only-of-type {\n",
       "        vertical-align: middle;\n",
       "    }\n",
       "\n",
       "    .dataframe tbody tr th {\n",
       "        vertical-align: top;\n",
       "    }\n",
       "\n",
       "    .dataframe thead th {\n",
       "        text-align: right;\n",
       "    }\n",
       "</style>\n",
       "<table border=\"1\" class=\"dataframe\">\n",
       "  <thead>\n",
       "    <tr style=\"text-align: right;\">\n",
       "      <th></th>\n",
       "      <th>p</th>\n",
       "      <th>q</th>\n",
       "      <th>growth</th>\n",
       "      <th>delta</th>\n",
       "      <th>r</th>\n",
       "    </tr>\n",
       "  </thead>\n",
       "  <tbody>\n",
       "    <tr>\n",
       "      <th>gegebenenfalls</th>\n",
       "      <td>0.006729</td>\n",
       "      <td>0.979014</td>\n",
       "      <td>2.412114</td>\n",
       "      <td>-0.972284</td>\n",
       "      <td>0.006874</td>\n",
       "    </tr>\n",
       "    <tr>\n",
       "      <th>relevant</th>\n",
       "      <td>0.012113</td>\n",
       "      <td>0.995881</td>\n",
       "      <td>1.598223</td>\n",
       "      <td>-0.983768</td>\n",
       "      <td>0.012163</td>\n",
       "    </tr>\n",
       "    <tr>\n",
       "      <th>darunter</th>\n",
       "      <td>0.006729</td>\n",
       "      <td>0.983283</td>\n",
       "      <td>1.501185</td>\n",
       "      <td>-0.976553</td>\n",
       "      <td>0.006844</td>\n",
       "    </tr>\n",
       "    <tr>\n",
       "      <th>dennoch</th>\n",
       "      <td>0.012113</td>\n",
       "      <td>0.001282</td>\n",
       "      <td>0.712885</td>\n",
       "      <td>0.010831</td>\n",
       "      <td>9.447972</td>\n",
       "    </tr>\n",
       "    <tr>\n",
       "      <th>zugleich</th>\n",
       "      <td>0.017497</td>\n",
       "      <td>0.999513</td>\n",
       "      <td>0.683540</td>\n",
       "      <td>-0.982016</td>\n",
       "      <td>0.017505</td>\n",
       "    </tr>\n",
       "    <tr>\n",
       "      <th>zudem</th>\n",
       "      <td>0.071332</td>\n",
       "      <td>0.093672</td>\n",
       "      <td>0.305650</td>\n",
       "      <td>-0.022340</td>\n",
       "      <td>0.761510</td>\n",
       "    </tr>\n",
       "    <tr>\n",
       "      <th>jedoch</th>\n",
       "      <td>0.051144</td>\n",
       "      <td>0.040309</td>\n",
       "      <td>0.156027</td>\n",
       "      <td>0.010835</td>\n",
       "      <td>1.268813</td>\n",
       "    </tr>\n",
       "    <tr>\n",
       "      <th>sowohl</th>\n",
       "      <td>0.037685</td>\n",
       "      <td>0.018561</td>\n",
       "      <td>0.098290</td>\n",
       "      <td>0.019124</td>\n",
       "      <td>2.030290</td>\n",
       "    </tr>\n",
       "    <tr>\n",
       "      <th>trotzdem</th>\n",
       "      <td>0.012113</td>\n",
       "      <td>0.003050</td>\n",
       "      <td>-0.039711</td>\n",
       "      <td>0.009063</td>\n",
       "      <td>3.970954</td>\n",
       "    </tr>\n",
       "    <tr>\n",
       "      <th>zuvor</th>\n",
       "      <td>0.009421</td>\n",
       "      <td>0.010630</td>\n",
       "      <td>-0.084947</td>\n",
       "      <td>-0.001209</td>\n",
       "      <td>0.886265</td>\n",
       "    </tr>\n",
       "    <tr>\n",
       "      <th>außerdem</th>\n",
       "      <td>0.094213</td>\n",
       "      <td>0.081788</td>\n",
       "      <td>-0.093043</td>\n",
       "      <td>0.012424</td>\n",
       "      <td>1.151910</td>\n",
       "    </tr>\n",
       "    <tr>\n",
       "      <th>vorher</th>\n",
       "      <td>0.006729</td>\n",
       "      <td>0.001412</td>\n",
       "      <td>-0.136088</td>\n",
       "      <td>0.005318</td>\n",
       "      <td>4.766087</td>\n",
       "    </tr>\n",
       "    <tr>\n",
       "      <th>insgesamt</th>\n",
       "      <td>0.113055</td>\n",
       "      <td>0.085810</td>\n",
       "      <td>-0.163120</td>\n",
       "      <td>0.027245</td>\n",
       "      <td>1.317503</td>\n",
       "    </tr>\n",
       "    <tr>\n",
       "      <th>beispielsweise</th>\n",
       "      <td>0.010767</td>\n",
       "      <td>0.016981</td>\n",
       "      <td>-0.176665</td>\n",
       "      <td>-0.006214</td>\n",
       "      <td>0.634076</td>\n",
       "    </tr>\n",
       "    <tr>\n",
       "      <th>notwendig</th>\n",
       "      <td>0.021534</td>\n",
       "      <td>0.009838</td>\n",
       "      <td>-0.205594</td>\n",
       "      <td>0.011696</td>\n",
       "      <td>2.188793</td>\n",
       "    </tr>\n",
       "    <tr>\n",
       "      <th>häufig</th>\n",
       "      <td>0.020188</td>\n",
       "      <td>0.044233</td>\n",
       "      <td>-0.282229</td>\n",
       "      <td>-0.024045</td>\n",
       "      <td>0.456408</td>\n",
       "    </tr>\n",
       "    <tr>\n",
       "      <th>anschließend</th>\n",
       "      <td>0.039031</td>\n",
       "      <td>0.086128</td>\n",
       "      <td>-0.287973</td>\n",
       "      <td>-0.047097</td>\n",
       "      <td>0.453176</td>\n",
       "    </tr>\n",
       "    <tr>\n",
       "      <th>daher</th>\n",
       "      <td>0.039031</td>\n",
       "      <td>0.036293</td>\n",
       "      <td>-0.318150</td>\n",
       "      <td>0.002738</td>\n",
       "      <td>1.075428</td>\n",
       "    </tr>\n",
       "    <tr>\n",
       "      <th>bisher</th>\n",
       "      <td>0.020188</td>\n",
       "      <td>0.006452</td>\n",
       "      <td>-0.318643</td>\n",
       "      <td>0.013737</td>\n",
       "      <td>3.129180</td>\n",
       "    </tr>\n",
       "    <tr>\n",
       "      <th>somit</th>\n",
       "      <td>0.016151</td>\n",
       "      <td>0.011364</td>\n",
       "      <td>-0.408646</td>\n",
       "      <td>0.004787</td>\n",
       "      <td>1.421211</td>\n",
       "    </tr>\n",
       "    <tr>\n",
       "      <th>ebenso</th>\n",
       "      <td>0.006729</td>\n",
       "      <td>0.012167</td>\n",
       "      <td>-0.426400</td>\n",
       "      <td>-0.005438</td>\n",
       "      <td>0.553074</td>\n",
       "    </tr>\n",
       "    <tr>\n",
       "      <th>weiterhin</th>\n",
       "      <td>0.018843</td>\n",
       "      <td>0.002649</td>\n",
       "      <td>-0.450767</td>\n",
       "      <td>0.016193</td>\n",
       "      <td>7.112684</td>\n",
       "    </tr>\n",
       "    <tr>\n",
       "      <th>insbesondere</th>\n",
       "      <td>0.034993</td>\n",
       "      <td>0.015854</td>\n",
       "      <td>-0.469339</td>\n",
       "      <td>0.019140</td>\n",
       "      <td>2.207255</td>\n",
       "    </tr>\n",
       "    <tr>\n",
       "      <th>aktuell</th>\n",
       "      <td>0.064603</td>\n",
       "      <td>0.045948</td>\n",
       "      <td>-0.482460</td>\n",
       "      <td>0.018655</td>\n",
       "      <td>1.406016</td>\n",
       "    </tr>\n",
       "    <tr>\n",
       "      <th>deshalb</th>\n",
       "      <td>0.012113</td>\n",
       "      <td>0.012381</td>\n",
       "      <td>-0.598696</td>\n",
       "      <td>-0.000268</td>\n",
       "      <td>0.978347</td>\n",
       "    </tr>\n",
       "    <tr>\n",
       "      <th>entsprechend</th>\n",
       "      <td>0.009421</td>\n",
       "      <td>0.013916</td>\n",
       "      <td>-0.764014</td>\n",
       "      <td>-0.004495</td>\n",
       "      <td>0.677013</td>\n",
       "    </tr>\n",
       "  </tbody>\n",
       "</table>\n",
       "</div>"
      ],
      "text/plain": [
       "                       p         q    growth     delta         r\n",
       "gegebenenfalls  0.006729  0.979014  2.412114 -0.972284  0.006874\n",
       "relevant        0.012113  0.995881  1.598223 -0.983768  0.012163\n",
       "darunter        0.006729  0.983283  1.501185 -0.976553  0.006844\n",
       "dennoch         0.012113  0.001282  0.712885  0.010831  9.447972\n",
       "zugleich        0.017497  0.999513  0.683540 -0.982016  0.017505\n",
       "zudem           0.071332  0.093672  0.305650 -0.022340  0.761510\n",
       "jedoch          0.051144  0.040309  0.156027  0.010835  1.268813\n",
       "sowohl          0.037685  0.018561  0.098290  0.019124  2.030290\n",
       "trotzdem        0.012113  0.003050 -0.039711  0.009063  3.970954\n",
       "zuvor           0.009421  0.010630 -0.084947 -0.001209  0.886265\n",
       "außerdem        0.094213  0.081788 -0.093043  0.012424  1.151910\n",
       "vorher          0.006729  0.001412 -0.136088  0.005318  4.766087\n",
       "insgesamt       0.113055  0.085810 -0.163120  0.027245  1.317503\n",
       "beispielsweise  0.010767  0.016981 -0.176665 -0.006214  0.634076\n",
       "notwendig       0.021534  0.009838 -0.205594  0.011696  2.188793\n",
       "häufig          0.020188  0.044233 -0.282229 -0.024045  0.456408\n",
       "anschließend    0.039031  0.086128 -0.287973 -0.047097  0.453176\n",
       "daher           0.039031  0.036293 -0.318150  0.002738  1.075428\n",
       "bisher          0.020188  0.006452 -0.318643  0.013737  3.129180\n",
       "somit           0.016151  0.011364 -0.408646  0.004787  1.421211\n",
       "ebenso          0.006729  0.012167 -0.426400 -0.005438  0.553074\n",
       "weiterhin       0.018843  0.002649 -0.450767  0.016193  7.112684\n",
       "insbesondere    0.034993  0.015854 -0.469339  0.019140  2.207255\n",
       "aktuell         0.064603  0.045948 -0.482460  0.018655  1.406016\n",
       "deshalb         0.012113  0.012381 -0.598696 -0.000268  0.978347\n",
       "entsprechend    0.009421  0.013916 -0.764014 -0.004495  0.677013"
      ]
     },
     "execution_count": 73,
     "metadata": {},
     "output_type": "execute_result"
    }
   ],
   "source": [
    "llm_words = {\n",
    "    \"jedoch\", \"insbesondere\", \"beispielsweise\", \"weiterhin\", \"somit\", \"letztlich\",\n",
    "    \"zugleich\", \"daraufhin\", \"entsprechend\", \"vermutlich\", \"wahrscheinlich\",\n",
    "    \"insgesamt\", \"relevant\", \"bedeutend\", \"entscheidend\", \"zudem\", \"grundsätzlich\",\n",
    "    \"dennoch\", \"außerdem\", \"daher\", \"deshalb\", \"dementsprechend\", \"trotzdem\",\n",
    "    \"folglich\", \"anschließend\", \"vor allem\", \"darunter\", \"ferner\", \"vorher\",\n",
    "    \"aktuell\", \"anschließend\", \"anschließend\", \"bisher\", \"zuvor\", \"anschließend\",\n",
    "    \"künftig\", \"ebenso\", \"hingegen\", \"beachtlich\", \"wesentlich\", \"notwendig\",\n",
    "    \"gegebenenfalls\", \"typischerweise\", \"häufig\", \"gelegentlich\", \"zumeist\",\n",
    "    \"oftmals\", \"grundlegend\", \"relevant\", \"weshalb\", \"demnach\", \"somit\",\n",
    "    \"dementsprechend\", \"beachtenswert\", \"überdies\", \"hinreichend\", \"wesentlicher\",\n",
    "    \"prägnant\", \"effektiv\", \"effizient\", \"weshalb\", \"sowohl\", \"einerseits\",\n",
    "    \"andererseits\"\n",
    "}\n",
    "\n",
    "\n",
    "found_llm_words = [w for w in llm_words if w in excess.index]\n",
    "\n",
    "llm_in_df = excess.loc[excess.index.isin(found_llm_words)]\n",
    "\n",
    "llm_in_df.sort_values(\"growth\", ascending=False)"
   ]
  },
  {
   "cell_type": "code",
   "execution_count": null,
   "id": "5433b0e8",
   "metadata": {},
   "outputs": [
    {
     "name": "stdout",
     "output_type": "stream",
     "text": [
      "number of excess style words 981\n"
     ]
    },
    {
     "data": {
      "text/plain": [
       "82487"
      ]
     },
     "execution_count": 74,
     "metadata": {},
     "output_type": "execute_result"
    }
   ],
   "source": [
    "# save to markdown file\n",
    "print(f\"number of excess style words {len(excess_style_words)}\")\n",
    "with open(\"excess_style_words.md\", \"w\") as f:\n",
    "    f.write(excess_style_words.head(1000).to_string())"
   ]
  },
  {
   "cell_type": "code",
   "execution_count": 80,
   "id": "3e77afb5",
   "metadata": {},
   "outputs": [
    {
     "data": {
      "image/png": "[encoded data removed]",
      "text/plain": [
       "<Figure size 960x480 with 2 Axes>"
      ]
     },
     "metadata": {},
     "output_type": "display_data"
    },
    {
     "data": {
      "text/plain": [
       "{'p': 0.034993270524899055,\n",
       " 'q': 0.015853754035157725,\n",
       " 'delta': 0.01913951648974133}"
      ]
     },
     "execution_count": 80,
     "metadata": {},
     "output_type": "execute_result"
    }
   ],
   "source": [
    "plot_word_timeseries(\n",
    "  word=\"insbesondere\", \n",
    "  occurence_freq=occurence_freq,\n",
    "  occurrences_abs=occurence_counts,\n",
    "  train_years=(2012, 2022),  #needs to adapted depending on corpus\n",
    "  target_year=2024\n",
    ")"
   ]
  }
 ],
 "metadata": {
  "kernelspec": {
   "display_name": "venv (3.10.14)",
   "language": "python",
   "name": "python3"
  },
  "language_info": {
   "codemirror_mode": {
    "name": "ipython",
    "version": 3
   },
   "file_extension": ".py",
   "mimetype": "text/x-python",
   "name": "python",
   "nbconvert_exporter": "python",
   "pygments_lexer": "ipython3",
   "version": "3.10.14"
  }
 },
 "nbformat": 4,
 "nbformat_minor": 5
}
